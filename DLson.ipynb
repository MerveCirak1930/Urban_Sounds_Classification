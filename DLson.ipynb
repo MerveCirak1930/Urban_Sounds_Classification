{
  "nbformat": 4,
  "nbformat_minor": 0,
  "metadata": {
    "colab": {
      "provenance": [],
      "collapsed_sections": [],
      "include_colab_link": true
    },
    "kernelspec": {
      "name": "python3",
      "display_name": "Python 3"
    },
    "language_info": {
      "name": "python"
    }
  },
  "cells": [
    {
      "cell_type": "markdown",
      "metadata": {
        "id": "view-in-github",
        "colab_type": "text"
      },
      "source": [
        "<a href=\"https://colab.research.google.com/github/MerveCirak1930/Urban_Sounds_Classification/blob/main/DLson.ipynb\" target=\"_parent\"><img src=\"https://colab.research.google.com/assets/colab-badge.svg\" alt=\"Open In Colab\"/></a>"
      ]
    },
    {
      "cell_type": "markdown",
      "source": [
        "# Importing the required libraries\n"
      ],
      "metadata": {
        "id": "m3gEajM9waf_"
      }
    },
    {
      "cell_type": "code",
      "source": [
        "# connection between Google Colab and Google Drive\n",
        "from google.colab import drive    # we used spectograms and UrbanSound8K.csv in Google Drive\n",
        "import os\n",
        "\n",
        "import numpy as np\n",
        "import pandas as pd\n",
        "import matplotlib.pyplot as plt\n",
        "\n",
        "import librosa            #allows us to read audio files (files such as mp3, wav).\n",
        "import librosa.display    #converting the audio files to pictures\n",
        "\n",
        "import cv2                #Allows you to manipulate images(in this project, spectograms are our images)\n",
        "from google.colab.patches import cv2_imshow\n",
        "\n",
        "import tensorflow as tf\n",
        "\n",
        "import sys"
      ],
      "metadata": {
        "id": "sGLB6qt7wlZn"
      },
      "execution_count": null,
      "outputs": []
    },
    {
      "cell_type": "markdown",
      "source": [
        "# Loading of Dataset"
      ],
      "metadata": {
        "id": "M9C8t5hnwSxF"
      }
    },
    {
      "cell_type": "code",
      "execution_count": null,
      "metadata": {
        "colab": {
          "base_uri": "https://localhost:8080/"
        },
        "id": "4wGnyQLiApSI",
        "outputId": "4807411d-1e84-46a5-bad4-7498f9cacdf6"
      },
      "outputs": [
        {
          "output_type": "stream",
          "name": "stdout",
          "text": [
            "Mounted at /content/drive\n"
          ]
        }
      ],
      "source": [
        "#We are connected to the root directory on drive\n",
        "drive.mount(\"/content/drive\")"
      ]
    },
    {
      "cell_type": "markdown",
      "source": [
        "### Reading csv file from our Drive"
      ],
      "metadata": {
        "id": "DIwu3umB2EKL"
      }
    },
    {
      "cell_type": "code",
      "source": [
        "df=pd.read_csv(\"/content/drive/My Drive/UrbanSoundClassificationwithDL/UrbanSound8K.csv\")\n",
        "df.head(10)"
      ],
      "metadata": {
        "colab": {
          "base_uri": "https://localhost:8080/",
          "height": 363
        },
        "id": "zxNUCNYGv4kU",
        "outputId": "7d0c5013-d0b5-4b34-cf0d-2df4b866497a"
      },
      "execution_count": null,
      "outputs": [
        {
          "output_type": "execute_result",
          "data": {
            "text/plain": [
              "      slice_file_name    fsID      start        end  salience  fold  classID  \\\n",
              "0    100032-3-0-0.wav  100032   0.000000   0.317551         1     5        3   \n",
              "1  100263-2-0-117.wav  100263  58.500000  62.500000         1     5        2   \n",
              "2  100263-2-0-121.wav  100263  60.500000  64.500000         1     5        2   \n",
              "3  100263-2-0-126.wav  100263  63.000000  67.000000         1     5        2   \n",
              "4  100263-2-0-137.wav  100263  68.500000  72.500000         1     5        2   \n",
              "5  100263-2-0-143.wav  100263  71.500000  75.500000         1     5        2   \n",
              "6  100263-2-0-161.wav  100263  80.500000  84.500000         1     5        2   \n",
              "7    100263-2-0-3.wav  100263   1.500000   5.500000         1     5        2   \n",
              "8   100263-2-0-36.wav  100263  18.000000  22.000000         1     5        2   \n",
              "9    100648-1-0-0.wav  100648   4.823402   5.471927         2    10        1   \n",
              "\n",
              "              class  \n",
              "0          dog_bark  \n",
              "1  children_playing  \n",
              "2  children_playing  \n",
              "3  children_playing  \n",
              "4  children_playing  \n",
              "5  children_playing  \n",
              "6  children_playing  \n",
              "7  children_playing  \n",
              "8  children_playing  \n",
              "9          car_horn  "
            ],
            "text/html": [
              "\n",
              "  <div id=\"df-6f6021ee-df8b-4332-9f32-e5da2d38386a\">\n",
              "    <div class=\"colab-df-container\">\n",
              "      <div>\n",
              "<style scoped>\n",
              "    .dataframe tbody tr th:only-of-type {\n",
              "        vertical-align: middle;\n",
              "    }\n",
              "\n",
              "    .dataframe tbody tr th {\n",
              "        vertical-align: top;\n",
              "    }\n",
              "\n",
              "    .dataframe thead th {\n",
              "        text-align: right;\n",
              "    }\n",
              "</style>\n",
              "<table border=\"1\" class=\"dataframe\">\n",
              "  <thead>\n",
              "    <tr style=\"text-align: right;\">\n",
              "      <th></th>\n",
              "      <th>slice_file_name</th>\n",
              "      <th>fsID</th>\n",
              "      <th>start</th>\n",
              "      <th>end</th>\n",
              "      <th>salience</th>\n",
              "      <th>fold</th>\n",
              "      <th>classID</th>\n",
              "      <th>class</th>\n",
              "    </tr>\n",
              "  </thead>\n",
              "  <tbody>\n",
              "    <tr>\n",
              "      <th>0</th>\n",
              "      <td>100032-3-0-0.wav</td>\n",
              "      <td>100032</td>\n",
              "      <td>0.000000</td>\n",
              "      <td>0.317551</td>\n",
              "      <td>1</td>\n",
              "      <td>5</td>\n",
              "      <td>3</td>\n",
              "      <td>dog_bark</td>\n",
              "    </tr>\n",
              "    <tr>\n",
              "      <th>1</th>\n",
              "      <td>100263-2-0-117.wav</td>\n",
              "      <td>100263</td>\n",
              "      <td>58.500000</td>\n",
              "      <td>62.500000</td>\n",
              "      <td>1</td>\n",
              "      <td>5</td>\n",
              "      <td>2</td>\n",
              "      <td>children_playing</td>\n",
              "    </tr>\n",
              "    <tr>\n",
              "      <th>2</th>\n",
              "      <td>100263-2-0-121.wav</td>\n",
              "      <td>100263</td>\n",
              "      <td>60.500000</td>\n",
              "      <td>64.500000</td>\n",
              "      <td>1</td>\n",
              "      <td>5</td>\n",
              "      <td>2</td>\n",
              "      <td>children_playing</td>\n",
              "    </tr>\n",
              "    <tr>\n",
              "      <th>3</th>\n",
              "      <td>100263-2-0-126.wav</td>\n",
              "      <td>100263</td>\n",
              "      <td>63.000000</td>\n",
              "      <td>67.000000</td>\n",
              "      <td>1</td>\n",
              "      <td>5</td>\n",
              "      <td>2</td>\n",
              "      <td>children_playing</td>\n",
              "    </tr>\n",
              "    <tr>\n",
              "      <th>4</th>\n",
              "      <td>100263-2-0-137.wav</td>\n",
              "      <td>100263</td>\n",
              "      <td>68.500000</td>\n",
              "      <td>72.500000</td>\n",
              "      <td>1</td>\n",
              "      <td>5</td>\n",
              "      <td>2</td>\n",
              "      <td>children_playing</td>\n",
              "    </tr>\n",
              "    <tr>\n",
              "      <th>5</th>\n",
              "      <td>100263-2-0-143.wav</td>\n",
              "      <td>100263</td>\n",
              "      <td>71.500000</td>\n",
              "      <td>75.500000</td>\n",
              "      <td>1</td>\n",
              "      <td>5</td>\n",
              "      <td>2</td>\n",
              "      <td>children_playing</td>\n",
              "    </tr>\n",
              "    <tr>\n",
              "      <th>6</th>\n",
              "      <td>100263-2-0-161.wav</td>\n",
              "      <td>100263</td>\n",
              "      <td>80.500000</td>\n",
              "      <td>84.500000</td>\n",
              "      <td>1</td>\n",
              "      <td>5</td>\n",
              "      <td>2</td>\n",
              "      <td>children_playing</td>\n",
              "    </tr>\n",
              "    <tr>\n",
              "      <th>7</th>\n",
              "      <td>100263-2-0-3.wav</td>\n",
              "      <td>100263</td>\n",
              "      <td>1.500000</td>\n",
              "      <td>5.500000</td>\n",
              "      <td>1</td>\n",
              "      <td>5</td>\n",
              "      <td>2</td>\n",
              "      <td>children_playing</td>\n",
              "    </tr>\n",
              "    <tr>\n",
              "      <th>8</th>\n",
              "      <td>100263-2-0-36.wav</td>\n",
              "      <td>100263</td>\n",
              "      <td>18.000000</td>\n",
              "      <td>22.000000</td>\n",
              "      <td>1</td>\n",
              "      <td>5</td>\n",
              "      <td>2</td>\n",
              "      <td>children_playing</td>\n",
              "    </tr>\n",
              "    <tr>\n",
              "      <th>9</th>\n",
              "      <td>100648-1-0-0.wav</td>\n",
              "      <td>100648</td>\n",
              "      <td>4.823402</td>\n",
              "      <td>5.471927</td>\n",
              "      <td>2</td>\n",
              "      <td>10</td>\n",
              "      <td>1</td>\n",
              "      <td>car_horn</td>\n",
              "    </tr>\n",
              "  </tbody>\n",
              "</table>\n",
              "</div>\n",
              "      <button class=\"colab-df-convert\" onclick=\"convertToInteractive('df-6f6021ee-df8b-4332-9f32-e5da2d38386a')\"\n",
              "              title=\"Convert this dataframe to an interactive table.\"\n",
              "              style=\"display:none;\">\n",
              "        \n",
              "  <svg xmlns=\"http://www.w3.org/2000/svg\" height=\"24px\"viewBox=\"0 0 24 24\"\n",
              "       width=\"24px\">\n",
              "    <path d=\"M0 0h24v24H0V0z\" fill=\"none\"/>\n",
              "    <path d=\"M18.56 5.44l.94 2.06.94-2.06 2.06-.94-2.06-.94-.94-2.06-.94 2.06-2.06.94zm-11 1L8.5 8.5l.94-2.06 2.06-.94-2.06-.94L8.5 2.5l-.94 2.06-2.06.94zm10 10l.94 2.06.94-2.06 2.06-.94-2.06-.94-.94-2.06-.94 2.06-2.06.94z\"/><path d=\"M17.41 7.96l-1.37-1.37c-.4-.4-.92-.59-1.43-.59-.52 0-1.04.2-1.43.59L10.3 9.45l-7.72 7.72c-.78.78-.78 2.05 0 2.83L4 21.41c.39.39.9.59 1.41.59.51 0 1.02-.2 1.41-.59l7.78-7.78 2.81-2.81c.8-.78.8-2.07 0-2.86zM5.41 20L4 18.59l7.72-7.72 1.47 1.35L5.41 20z\"/>\n",
              "  </svg>\n",
              "      </button>\n",
              "      \n",
              "  <style>\n",
              "    .colab-df-container {\n",
              "      display:flex;\n",
              "      flex-wrap:wrap;\n",
              "      gap: 12px;\n",
              "    }\n",
              "\n",
              "    .colab-df-convert {\n",
              "      background-color: #E8F0FE;\n",
              "      border: none;\n",
              "      border-radius: 50%;\n",
              "      cursor: pointer;\n",
              "      display: none;\n",
              "      fill: #1967D2;\n",
              "      height: 32px;\n",
              "      padding: 0 0 0 0;\n",
              "      width: 32px;\n",
              "    }\n",
              "\n",
              "    .colab-df-convert:hover {\n",
              "      background-color: #E2EBFA;\n",
              "      box-shadow: 0px 1px 2px rgba(60, 64, 67, 0.3), 0px 1px 3px 1px rgba(60, 64, 67, 0.15);\n",
              "      fill: #174EA6;\n",
              "    }\n",
              "\n",
              "    [theme=dark] .colab-df-convert {\n",
              "      background-color: #3B4455;\n",
              "      fill: #D2E3FC;\n",
              "    }\n",
              "\n",
              "    [theme=dark] .colab-df-convert:hover {\n",
              "      background-color: #434B5C;\n",
              "      box-shadow: 0px 1px 3px 1px rgba(0, 0, 0, 0.15);\n",
              "      filter: drop-shadow(0px 1px 2px rgba(0, 0, 0, 0.3));\n",
              "      fill: #FFFFFF;\n",
              "    }\n",
              "  </style>\n",
              "\n",
              "      <script>\n",
              "        const buttonEl =\n",
              "          document.querySelector('#df-6f6021ee-df8b-4332-9f32-e5da2d38386a button.colab-df-convert');\n",
              "        buttonEl.style.display =\n",
              "          google.colab.kernel.accessAllowed ? 'block' : 'none';\n",
              "\n",
              "        async function convertToInteractive(key) {\n",
              "          const element = document.querySelector('#df-6f6021ee-df8b-4332-9f32-e5da2d38386a');\n",
              "          const dataTable =\n",
              "            await google.colab.kernel.invokeFunction('convertToInteractive',\n",
              "                                                     [key], {});\n",
              "          if (!dataTable) return;\n",
              "\n",
              "          const docLinkHtml = 'Like what you see? Visit the ' +\n",
              "            '<a target=\"_blank\" href=https://colab.research.google.com/notebooks/data_table.ipynb>data table notebook</a>'\n",
              "            + ' to learn more about interactive tables.';\n",
              "          element.innerHTML = '';\n",
              "          dataTable['output_type'] = 'display_data';\n",
              "          await google.colab.output.renderOutput(dataTable, element);\n",
              "          const docLink = document.createElement('div');\n",
              "          docLink.innerHTML = docLinkHtml;\n",
              "          element.appendChild(docLink);\n",
              "        }\n",
              "      </script>\n",
              "    </div>\n",
              "  </div>\n",
              "  "
            ]
          },
          "metadata": {},
          "execution_count": 3
        }
      ]
    },
    {
      "cell_type": "markdown",
      "source": [
        "### Access to spectrogram files from our Drive"
      ],
      "metadata": {
        "id": "HmmPbi1L5IDo"
      }
    },
    {
      "cell_type": "code",
      "source": [
        "our_spectrograms = \"/content/drive/My Drive/UrbanSoundClassificationwithDL/spectrograms\""
      ],
      "metadata": {
        "id": "Lu9bpoGK6g12"
      },
      "execution_count": null,
      "outputs": []
    },
    {
      "cell_type": "markdown",
      "source": [
        "# Preprocessing  -  Notebook"
      ],
      "metadata": {
        "id": "46cw2xWJEoBS"
      }
    },
    {
      "cell_type": "code",
      "source": [
        "image_array = []\n",
        "label_array = []\n",
        "\n",
        "for label in range(10):\n",
        "  # All files in the label folders were appointed to a list.We started from the label folder called 0.\n",
        "  images = os.listdir(our_spectrograms+\"/\"+str(label))  \n",
        "\n",
        "  # Check all images in the label folder via 'For' loop.\n",
        "  for image in range(len(images)):\n",
        "\n",
        "    #grayscale transform\n",
        "    img_gray=cv2.imread(our_spectrograms+\"/\"+str(label)+\"/\"+images[image],0) \n",
        "\n",
        "    #resizing\n",
        "    resized_gray = cv2.resize(img_gray, (100,100) , interpolation = cv2.INTER_AREA)\n",
        "\n",
        "    #normalization\n",
        "    normalized_gray=resized_gray/255 # Assign all pixel values between 0-1\n",
        "\n",
        "    image_array.append(normalized_gray) #Add the processed image to the X list.\n",
        "    label_array.append(label) #Add the label of the processed image to the y list."
      ],
      "metadata": {
        "id": "yA5oHp7q4G9E"
      },
      "execution_count": null,
      "outputs": []
    },
    {
      "cell_type": "code",
      "source": [
        "len(images)"
      ],
      "metadata": {
        "colab": {
          "base_uri": "https://localhost:8080/"
        },
        "id": "gq-woaopCctQ",
        "outputId": "911886c6-341e-4469-bb88-c3cb5b759607"
      },
      "execution_count": null,
      "outputs": [
        {
          "output_type": "execute_result",
          "data": {
            "text/plain": [
              "1000"
            ]
          },
          "metadata": {},
          "execution_count": 9
        }
      ]
    },
    {
      "cell_type": "code",
      "source": [
        "print(len(image_array))\n",
        "print(len(label_array))"
      ],
      "metadata": {
        "colab": {
          "base_uri": "https://localhost:8080/"
        },
        "id": "Y-a92_HFFz7B",
        "outputId": "473bdcda-60ed-447b-f146-def6684a3c57"
      },
      "execution_count": null,
      "outputs": [
        {
          "output_type": "stream",
          "name": "stdout",
          "text": [
            "8732\n",
            "8732\n"
          ]
        }
      ]
    },
    {
      "cell_type": "code",
      "source": [
        "print(label_array[0])\n",
        "print(label_array[500])\n",
        "print(label_array[1000])\n",
        "print(label_array[1500])\n",
        "print(label_array[2000])\n",
        "print(label_array[3500])\n",
        "print(label_array[4500])\n",
        "print(label_array[5500])\n",
        "print(label_array[6500])\n",
        "print(label_array[7500])\n",
        "print(label_array[8500])"
      ],
      "metadata": {
        "colab": {
          "base_uri": "https://localhost:8080/"
        },
        "id": "MqkIMNWDGGfA",
        "outputId": "e3349e53-d0dc-4e87-9f03-e3e9a1fc9e90"
      },
      "execution_count": null,
      "outputs": [
        {
          "output_type": "stream",
          "name": "stdout",
          "text": [
            "0\n",
            "0\n",
            "1\n",
            "2\n",
            "2\n",
            "4\n",
            "5\n",
            "6\n",
            "7\n",
            "8\n",
            "9\n"
          ]
        }
      ]
    },
    {
      "cell_type": "code",
      "source": [
        "import random\n",
        "\n",
        "def shuffle(image_array,label_array):\n",
        "  z = list(zip(image_array, label_array))\n",
        "  random.shuffle(z)\n",
        "  image_array, label_array = zip(*z)\n",
        "  return image_array, label_array"
      ],
      "metadata": {
        "id": "phKVTccjGqmo"
      },
      "execution_count": null,
      "outputs": []
    },
    {
      "cell_type": "code",
      "source": [
        "image_array , label_array = shuffle(image_array, label_array)"
      ],
      "metadata": {
        "id": "_HjJFArAGqUR"
      },
      "execution_count": null,
      "outputs": []
    },
    {
      "cell_type": "code",
      "source": [
        "from sklearn.model_selection import train_test_split    #splitting data into train, test\n",
        "X_train, X_test, y_train, y_test = train_test_split(image_array, label_array, test_size=0.15, random_state=42)"
      ],
      "metadata": {
        "id": "Wi6fFKgvIJBJ"
      },
      "execution_count": null,
      "outputs": []
    },
    {
      "cell_type": "code",
      "source": [
        "X_train,x_val,y_train,y_val= train_test_split(X_train, y_train, test_size=0.25, random_state=42)    #splitting data into train, value"
      ],
      "metadata": {
        "id": "ot_Lu3WEmu6_"
      },
      "execution_count": null,
      "outputs": []
    },
    {
      "cell_type": "code",
      "source": [
        "type(X_train)"
      ],
      "metadata": {
        "colab": {
          "base_uri": "https://localhost:8080/"
        },
        "id": "1WZynwSuII9L",
        "outputId": "b3bb370e-fb45-4a06-fcf1-d73f0ceac1f7"
      },
      "execution_count": null,
      "outputs": [
        {
          "output_type": "execute_result",
          "data": {
            "text/plain": [
              "list"
            ]
          },
          "metadata": {},
          "execution_count": 10
        }
      ]
    },
    {
      "cell_type": "code",
      "source": [
        "X_train = np.array(X_train )\n",
        "X_test = np.array(X_test )\n",
        "X_val=np.array(x_val)\n",
        "\n",
        "y_train = np.array(y_train )\n",
        "y_test= np.array(y_test )\n",
        "y_val=np.array(y_val)"
      ],
      "metadata": {
        "id": "6kyuSkMYII2O"
      },
      "execution_count": null,
      "outputs": []
    },
    {
      "cell_type": "code",
      "source": [
        "type(X_test)"
      ],
      "metadata": {
        "colab": {
          "base_uri": "https://localhost:8080/"
        },
        "id": "unS4an1qJzQt",
        "outputId": "cdbe0bfc-4750-4f86-99b6-e28cd888216f"
      },
      "execution_count": null,
      "outputs": [
        {
          "output_type": "execute_result",
          "data": {
            "text/plain": [
              "numpy.ndarray"
            ]
          },
          "metadata": {},
          "execution_count": 12
        }
      ]
    },
    {
      "cell_type": "code",
      "source": [
        "print(f\"Len of X_train:{len(X_train)}\")\n",
        "print(f\"Len of X_test:{len(X_test)}\")\n",
        "print(f\"Len of X_val:{len(X_val)}\")\n",
        "\n",
        "print(f\"Len of y_train:{len(y_train)}\")\n",
        "print(f\"Len of y_test:{len(y_test)}\")\n",
        "print(f\"Len of y_val:{len(y_val)}\")"
      ],
      "metadata": {
        "colab": {
          "base_uri": "https://localhost:8080/"
        },
        "id": "ctuixfYIKjK8",
        "outputId": "39257b7f-61d6-450c-d4cb-19067b491e2b"
      },
      "execution_count": null,
      "outputs": [
        {
          "output_type": "stream",
          "name": "stdout",
          "text": [
            "Len of X_train:5566\n",
            "Len of X_test:1310\n",
            "Len of X_val:1856\n",
            "Len of y_train:5566\n",
            "Len of y_test:1310\n",
            "Len of y_val:1856\n"
          ]
        }
      ]
    },
    {
      "cell_type": "code",
      "source": [
        "print(X_train.shape)\n",
        "print(X_test.shape)\n",
        "print(X_val.shape)\n",
        "print(y_train.shape)\n",
        "print(y_test.shape)\n",
        "print(y_val.shape)"
      ],
      "metadata": {
        "colab": {
          "base_uri": "https://localhost:8080/"
        },
        "id": "BwFesmnEqXiH",
        "outputId": "fff211bc-28d8-4d33-b259-77e9d8afe504"
      },
      "execution_count": null,
      "outputs": [
        {
          "output_type": "stream",
          "name": "stdout",
          "text": [
            "(5566, 100, 100)\n",
            "(1310, 100, 100)\n",
            "(1856, 100, 100)\n",
            "(5566,)\n",
            "(1310,)\n",
            "(1856,)\n"
          ]
        }
      ]
    },
    {
      "cell_type": "markdown",
      "source": [
        "# Preparing and Training of Model  - Notebook"
      ],
      "metadata": {
        "id": "TKUoc0YajM4C"
      }
    },
    {
      "cell_type": "code",
      "source": [
        "numberOfClass= y_train.shape[0]  \n",
        "\n",
        "from keras.models import Sequential       # Basic Model\n",
        "from keras.layers import Conv2D, MaxPooling2D, Activation, Dropout, Flatten, Dense, BatchNormalization   # Cnn layers\n",
        "from keras.preprocessing.image import ImageDataGenerator\n",
        "\n",
        "# Create model \n",
        "model= Sequential()\n",
        "\n",
        "# first layer\n",
        "model.add(Conv2D(input_shape=(100,100,1), filters=32, kernel_size=(3,3)))\n",
        "model.add(BatchNormalization())\n",
        "model.add(Activation(\"relu\"))\n",
        "model.add(MaxPooling2D())\n",
        "\n",
        "\n",
        "# second layer\n",
        "model.add(Conv2D(filters=64, kernel_size=(3,3)))\n",
        "model.add(BatchNormalization())\n",
        "model.add(Activation(\"relu\"))\n",
        "model.add(MaxPooling2D())\n",
        "\n",
        "# The input_shape does not need to be specified again. It was received in the first layer.\n",
        "\n",
        "# third layer\n",
        "model.add(Conv2D(filters=128, kernel_size=(3,3)))\n",
        "model.add(BatchNormalization())\n",
        "model.add(Activation(\"relu\"))\n",
        "model.add(MaxPooling2D())\n",
        "\n",
        "# Flattening the layers and adding the output layer \n",
        "model.add(Flatten())\n",
        "model.add(Dropout(0.2))\n",
        "model.add(Dense(units=512))\n",
        "model.add(Activation(\"relu\"))\n",
        "model.add(Dense(units=250))\n",
        "model.add(Activation(\"relu\"))\n",
        "model.add(Dropout(0.2))\n",
        "model.add(Dense(units=numberOfClass))\n",
        "model.add(Activation(\"softmax\"))\n",
        "\n",
        "# Compiling the model\n",
        "model.compile(loss=\"sparse_categorical_crossentropy\",\n",
        "             optimizer=\"adam\",\n",
        "             metrics=[\"accuracy\"])\n",
        "\n",
        "# Training the model\n",
        "hist= model.fit(X_train,y_train, validation_data=(X_val,y_val), epochs=50, batch_size=32)"
      ],
      "metadata": {
        "colab": {
          "base_uri": "https://localhost:8080/"
        },
        "id": "6YEfiPeFMG_2",
        "outputId": "8e0d10b8-b32a-421c-aff3-f12c1fa4d6cb"
      },
      "execution_count": null,
      "outputs": [
        {
          "output_type": "stream",
          "name": "stdout",
          "text": [
            "Epoch 1/50\n",
            "174/174 [==============================] - 131s 746ms/step - loss: 1.5741 - accuracy: 0.4910 - val_loss: 2.9785 - val_accuracy: 0.1433\n",
            "Epoch 2/50\n",
            "174/174 [==============================] - 134s 772ms/step - loss: 0.8699 - accuracy: 0.7063 - val_loss: 3.5393 - val_accuracy: 0.1579\n",
            "Epoch 3/50\n",
            "174/174 [==============================] - 131s 755ms/step - loss: 0.6601 - accuracy: 0.7828 - val_loss: 1.5898 - val_accuracy: 0.5011\n",
            "Epoch 4/50\n",
            "174/174 [==============================] - 130s 749ms/step - loss: 0.5309 - accuracy: 0.8216 - val_loss: 0.9950 - val_accuracy: 0.6778\n",
            "Epoch 5/50\n",
            "174/174 [==============================] - 132s 758ms/step - loss: 0.4210 - accuracy: 0.8586 - val_loss: 0.5851 - val_accuracy: 0.8082\n",
            "Epoch 6/50\n",
            "174/174 [==============================] - 132s 756ms/step - loss: 0.3351 - accuracy: 0.8857 - val_loss: 0.7463 - val_accuracy: 0.7904\n",
            "Epoch 7/50\n",
            "174/174 [==============================] - 131s 755ms/step - loss: 0.2463 - accuracy: 0.9166 - val_loss: 0.6897 - val_accuracy: 0.8082\n",
            "Epoch 8/50\n",
            "174/174 [==============================] - 129s 742ms/step - loss: 0.2082 - accuracy: 0.9285 - val_loss: 0.9803 - val_accuracy: 0.7311\n",
            "Epoch 9/50\n",
            "174/174 [==============================] - 131s 753ms/step - loss: 0.1859 - accuracy: 0.9391 - val_loss: 1.0383 - val_accuracy: 0.7403\n",
            "Epoch 10/50\n",
            "174/174 [==============================] - 131s 751ms/step - loss: 0.1454 - accuracy: 0.9538 - val_loss: 0.7528 - val_accuracy: 0.8184\n",
            "Epoch 11/50\n",
            "174/174 [==============================] - 130s 749ms/step - loss: 0.1316 - accuracy: 0.9581 - val_loss: 1.1026 - val_accuracy: 0.7769\n",
            "Epoch 12/50\n",
            "174/174 [==============================] - 132s 758ms/step - loss: 0.0901 - accuracy: 0.9704 - val_loss: 0.5810 - val_accuracy: 0.8658\n",
            "Epoch 13/50\n",
            "174/174 [==============================] - 131s 754ms/step - loss: 0.1009 - accuracy: 0.9664 - val_loss: 1.0447 - val_accuracy: 0.7996\n",
            "Epoch 14/50\n",
            "174/174 [==============================] - 131s 755ms/step - loss: 0.1627 - accuracy: 0.9538 - val_loss: 0.6475 - val_accuracy: 0.8588\n",
            "Epoch 15/50\n",
            "174/174 [==============================] - 130s 748ms/step - loss: 0.0812 - accuracy: 0.9725 - val_loss: 0.8288 - val_accuracy: 0.8346\n",
            "Epoch 16/50\n",
            "174/174 [==============================] - 132s 757ms/step - loss: 0.0935 - accuracy: 0.9704 - val_loss: 0.9839 - val_accuracy: 0.8050\n",
            "Epoch 17/50\n",
            "174/174 [==============================] - 131s 755ms/step - loss: 0.0849 - accuracy: 0.9757 - val_loss: 0.6700 - val_accuracy: 0.8653\n",
            "Epoch 18/50\n",
            "174/174 [==============================] - 131s 754ms/step - loss: 0.0603 - accuracy: 0.9811 - val_loss: 0.5929 - val_accuracy: 0.8707\n",
            "Epoch 19/50\n",
            "174/174 [==============================] - 129s 742ms/step - loss: 0.0496 - accuracy: 0.9845 - val_loss: 0.6921 - val_accuracy: 0.8658\n",
            "Epoch 20/50\n",
            "174/174 [==============================] - 131s 754ms/step - loss: 0.0410 - accuracy: 0.9862 - val_loss: 0.6709 - val_accuracy: 0.8777\n",
            "Epoch 21/50\n",
            "174/174 [==============================] - 131s 752ms/step - loss: 0.0393 - accuracy: 0.9851 - val_loss: 1.0614 - val_accuracy: 0.8357\n",
            "Epoch 22/50\n",
            "174/174 [==============================] - 129s 742ms/step - loss: 0.0536 - accuracy: 0.9837 - val_loss: 0.8144 - val_accuracy: 0.8728\n",
            "Epoch 23/50\n",
            "174/174 [==============================] - 131s 755ms/step - loss: 0.0472 - accuracy: 0.9854 - val_loss: 1.0202 - val_accuracy: 0.8314\n",
            "Epoch 24/50\n",
            "174/174 [==============================] - 131s 755ms/step - loss: 0.1015 - accuracy: 0.9723 - val_loss: 0.8029 - val_accuracy: 0.8664\n",
            "Epoch 25/50\n",
            "174/174 [==============================] - 131s 751ms/step - loss: 0.0348 - accuracy: 0.9889 - val_loss: 0.6613 - val_accuracy: 0.8739\n",
            "Epoch 26/50\n",
            "174/174 [==============================] - 130s 745ms/step - loss: 0.0233 - accuracy: 0.9935 - val_loss: 0.7072 - val_accuracy: 0.8955\n",
            "Epoch 27/50\n",
            "174/174 [==============================] - 131s 755ms/step - loss: 0.0342 - accuracy: 0.9916 - val_loss: 1.3789 - val_accuracy: 0.7909\n",
            "Epoch 28/50\n",
            "174/174 [==============================] - 132s 756ms/step - loss: 0.0422 - accuracy: 0.9889 - val_loss: 0.8270 - val_accuracy: 0.8605\n",
            "Epoch 29/50\n",
            "174/174 [==============================] - 130s 745ms/step - loss: 0.0228 - accuracy: 0.9928 - val_loss: 1.0141 - val_accuracy: 0.8502\n",
            "Epoch 30/50\n",
            "174/174 [==============================] - 131s 753ms/step - loss: 0.0818 - accuracy: 0.9793 - val_loss: 0.7605 - val_accuracy: 0.8594\n",
            "Epoch 31/50\n",
            "174/174 [==============================] - 131s 751ms/step - loss: 0.0660 - accuracy: 0.9822 - val_loss: 0.7104 - val_accuracy: 0.8567\n",
            "Epoch 32/50\n",
            "174/174 [==============================] - 131s 751ms/step - loss: 0.0290 - accuracy: 0.9901 - val_loss: 0.7780 - val_accuracy: 0.8669\n",
            "Epoch 33/50\n",
            "174/174 [==============================] - 129s 742ms/step - loss: 0.0560 - accuracy: 0.9813 - val_loss: 1.0429 - val_accuracy: 0.8249\n",
            "Epoch 34/50\n",
            "174/174 [==============================] - 131s 753ms/step - loss: 0.0656 - accuracy: 0.9824 - val_loss: 0.7937 - val_accuracy: 0.8739\n",
            "Epoch 35/50\n",
            "174/174 [==============================] - 131s 755ms/step - loss: 0.0201 - accuracy: 0.9953 - val_loss: 0.8345 - val_accuracy: 0.8518\n",
            "Epoch 36/50\n",
            "174/174 [==============================] - 129s 743ms/step - loss: 0.0180 - accuracy: 0.9937 - val_loss: 0.7059 - val_accuracy: 0.8917\n",
            "Epoch 37/50\n",
            "174/174 [==============================] - 130s 745ms/step - loss: 0.0473 - accuracy: 0.9896 - val_loss: 1.0690 - val_accuracy: 0.8572\n",
            "Epoch 38/50\n",
            "174/174 [==============================] - 131s 753ms/step - loss: 0.0287 - accuracy: 0.9914 - val_loss: 0.9098 - val_accuracy: 0.8470\n",
            "Epoch 39/50\n",
            "174/174 [==============================] - 131s 753ms/step - loss: 0.0347 - accuracy: 0.9914 - val_loss: 0.7207 - val_accuracy: 0.8933\n",
            "Epoch 40/50\n",
            "174/174 [==============================] - 129s 740ms/step - loss: 0.0193 - accuracy: 0.9957 - val_loss: 0.7420 - val_accuracy: 0.8885\n",
            "Epoch 41/50\n",
            "174/174 [==============================] - 130s 750ms/step - loss: 0.0075 - accuracy: 0.9971 - val_loss: 0.6635 - val_accuracy: 0.8976\n",
            "Epoch 42/50\n",
            "174/174 [==============================] - 131s 751ms/step - loss: 0.0098 - accuracy: 0.9968 - val_loss: 0.8083 - val_accuracy: 0.8842\n",
            "Epoch 43/50\n",
            "174/174 [==============================] - 130s 746ms/step - loss: 0.0073 - accuracy: 0.9978 - val_loss: 0.7790 - val_accuracy: 0.8912\n",
            "Epoch 44/50\n",
            "174/174 [==============================] - 131s 748ms/step - loss: 0.0726 - accuracy: 0.9826 - val_loss: 0.8920 - val_accuracy: 0.8658\n",
            "Epoch 45/50\n",
            "174/174 [==============================] - 131s 752ms/step - loss: 0.0487 - accuracy: 0.9863 - val_loss: 0.9089 - val_accuracy: 0.8605\n",
            "Epoch 46/50\n",
            "174/174 [==============================] - 132s 756ms/step - loss: 0.0226 - accuracy: 0.9944 - val_loss: 1.3065 - val_accuracy: 0.7980\n",
            "Epoch 47/50\n",
            "174/174 [==============================] - 130s 746ms/step - loss: 0.0199 - accuracy: 0.9939 - val_loss: 1.0278 - val_accuracy: 0.8427\n",
            "Epoch 48/50\n",
            "174/174 [==============================] - 131s 752ms/step - loss: 0.0229 - accuracy: 0.9937 - val_loss: 0.9436 - val_accuracy: 0.8653\n",
            "Epoch 49/50\n",
            "174/174 [==============================] - 131s 754ms/step - loss: 0.0152 - accuracy: 0.9953 - val_loss: 0.9249 - val_accuracy: 0.8858\n",
            "Epoch 50/50\n",
            "174/174 [==============================] - 133s 763ms/step - loss: 0.0159 - accuracy: 0.9944 - val_loss: 1.1035 - val_accuracy: 0.8529\n"
          ]
        }
      ]
    },
    {
      "cell_type": "code",
      "source": [
        "model.save_weights(\"urban_sounds_record.h5\")  # modelin sonuçlarını h5 dosyasına kaydettim"
      ],
      "metadata": {
        "id": "lT2jfOihMG8f"
      },
      "execution_count": null,
      "outputs": []
    },
    {
      "cell_type": "code",
      "source": [
        "print(hist.history.keys())\n",
        "plt.plot(hist.history[\"loss\"],label=\"Train Loss\")\n",
        "plt.plot(hist.history[\"val_loss\"], label=\"Validation Loss\")\n",
        "plt.legend()\n",
        "plt.show()"
      ],
      "metadata": {
        "colab": {
          "base_uri": "https://localhost:8080/",
          "height": 282
        },
        "id": "dpthnzAYMG2b",
        "outputId": "afa06ed9-a41b-4947-d187-d53e732e6be3"
      },
      "execution_count": null,
      "outputs": [
        {
          "output_type": "stream",
          "name": "stdout",
          "text": [
            "dict_keys(['loss', 'accuracy', 'val_loss', 'val_accuracy'])\n"
          ]
        },
        {
          "output_type": "display_data",
          "data": {
            "text/plain": [
              "<Figure size 432x288 with 1 Axes>"
            ],
            "image/png": "[encoded data removed]"
          },
          "metadata": {
            "needs_background": "light"
          }
        }
      ]
    },
    {
      "cell_type": "code",
      "source": [
        "plt.figure()\n",
        "plt.plot(hist.history[\"accuracy\"], label=\"Train Accuracy\")\n",
        "plt.plot(hist.history[\"val_accuracy\"], label=\"Validation Accuracy\")\n",
        "plt.legend()\n",
        "plt.show()"
      ],
      "metadata": {
        "colab": {
          "base_uri": "https://localhost:8080/",
          "height": 265
        },
        "id": "yEqo6sVNRvsm",
        "outputId": "c92bdb91-7a12-44f9-d7a3-9327ff3bed89"
      },
      "execution_count": null,
      "outputs": [
        {
          "output_type": "display_data",
          "data": {
            "text/plain": [
              "<Figure size 432x288 with 1 Axes>"
            ],
            "image/png": "[encoded data removed]"
          },
          "metadata": {
            "needs_background": "light"
          }
        }
      ]
    },
    {
      "cell_type": "code",
      "source": [
        "# history grafiklerini kaydettim\n",
        "\n",
        "import json \n",
        "with open('urban_sounds_record.json','w')as f:\n",
        "    json.dump(hist.history,f)"
      ],
      "metadata": {
        "id": "3BTlbCoQMGyr"
      },
      "execution_count": null,
      "outputs": []
    },
    {
      "cell_type": "code",
      "source": [
        "# history grafiklerini tekrar görüntüledim\n",
        "\n",
        "import codecs\n",
        "with codecs.open(\"urban_sounds_record.json\",'r', encoding='utf-8') as f:\n",
        "     h= json.loads(f.read())\n",
        "\n",
        "plt.figure()\n",
        "plt.plot(h[\"loss\"], label=\"Train Loss\")\n",
        "plt.plot(h[\"val_loss\"], label=\"Validation Loss\")\n",
        "plt.legend()\n",
        "plt.show()\n",
        "plt.figure()\n",
        "plt.plot(h[\"accuracy\"], label=\"Train Accuracy\")\n",
        "plt.plot(h[\"val_accuracy\"], label=\"Validation Accuracy\")\n",
        "plt.legend()\n",
        "plt.show()"
      ],
      "metadata": {
        "colab": {
          "base_uri": "https://localhost:8080/",
          "height": 513
        },
        "id": "HxWTlF5N-zMk",
        "outputId": "6d12677e-5e1d-4469-de90-c1adfc451176"
      },
      "execution_count": null,
      "outputs": [
        {
          "output_type": "display_data",
          "data": {
            "text/plain": [
              "<Figure size 432x288 with 1 Axes>"
            ],
            "image/png": "[encoded data removed]"
          },
          "metadata": {
            "needs_background": "light"
          }
        },
        {
          "output_type": "display_data",
          "data": {
            "text/plain": [
              "<Figure size 432x288 with 1 Axes>"
            ],
            "image/png": "[encoded data removed]"
          },
          "metadata": {
            "needs_background": "light"
          }
        }
      ]
    },
    {
      "cell_type": "code",
      "source": [],
      "metadata": {
        "id": "Ff89IYXx_DUd"
      },
      "execution_count": null,
      "outputs": []
    },
    {
      "cell_type": "code",
      "source": [],
      "metadata": {
        "id": "4iZkUk60_DQS"
      },
      "execution_count": null,
      "outputs": []
    },
    {
      "cell_type": "code",
      "source": [],
      "metadata": {
        "id": "bG72oYeD_DLP"
      },
      "execution_count": null,
      "outputs": []
    }
  ]
}